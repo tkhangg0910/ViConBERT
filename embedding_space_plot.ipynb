{
 "cells": [
  {
   "cell_type": "code",
   "execution_count": null,
   "id": "23093775",
   "metadata": {},
   "outputs": [
    {
     "ename": "",
     "evalue": "",
     "output_type": "error",
     "traceback": [
      "\u001b[1;31mRunning cells with 'venv (Python 3.10.10)' requires the ipykernel package.\n",
      "\u001b[1;31mInstall 'ipykernel' into the Python environment. \n",
      "\u001b[1;31mCommand: '\"e:/Course/UIT/UIT-Final Thesis/SynoViSense/venv/Scripts/python.exe\" -m pip install ipykernel -U --force-reinstall'"
     ]
    }
   ],
   "source": [
    "import torch\n",
    "from models.base_model import ViSynoSenseEmbedding\n",
    "from transformers import PhobertTokenizerFast\n",
    "device = \"cuda\" if torch.cuda.is_available() else \"cpu\"\n",
    "tokenizer = PhobertTokenizerFast.from_pretrained(\"BERT_BASE-20250820T150905Z-1-001/BERT_BASE\")\n",
    "from utils.span_extractor import SpanExtractor\n",
    "\n",
    "import torch\n",
    "span_ex =SpanExtractor(tokenizer)\n",
    "model = ViSynoSenseEmbedding.from_pretrained(\"BERT_BASE-20250820T150905Z-1-001/BERT_BASE\",tokenizer).to(device)"
   ]
  },
  {
   "cell_type": "code",
   "execution_count": null,
   "id": "c2c17093",
   "metadata": {},
   "outputs": [],
   "source": []
  }
 ],
 "metadata": {
  "kernelspec": {
   "display_name": "venv",
   "language": "python",
   "name": "python3"
  },
  "language_info": {
   "codemirror_mode": {
    "name": "ipython",
    "version": 3
   },
   "file_extension": ".py",
   "mimetype": "text/x-python",
   "name": "python",
   "nbconvert_exporter": "python",
   "pygments_lexer": "ipython3",
   "version": "3.10.10"
  }
 },
 "nbformat": 4,
 "nbformat_minor": 5
}
