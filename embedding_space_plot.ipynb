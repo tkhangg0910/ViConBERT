{
 "cells": [
  {
   "cell_type": "code",
   "execution_count": 1,
   "id": "23093775",
   "metadata": {},
   "outputs": [
    {
     "name": "stderr",
     "output_type": "stream",
     "text": [
      "e:\\Course\\UIT\\UIT-Final Thesis\\SynoViSense\\venv\\lib\\site-packages\\tqdm\\auto.py:21: TqdmWarning: IProgress not found. Please update jupyter and ipywidgets. See https://ipywidgets.readthedocs.io/en/stable/user_install.html\n",
      "  from .autonotebook import tqdm as notebook_tqdm\n"
     ]
    },
    {
     "ename": "MemoryError",
     "evalue": "",
     "output_type": "error",
     "traceback": [
      "\u001b[1;31m---------------------------------------------------------------------------\u001b[0m",
      "\u001b[1;31mMemoryError\u001b[0m                               Traceback (most recent call last)",
      "Cell \u001b[1;32mIn[1], line 7\u001b[0m\n\u001b[0;32m      5\u001b[0m tokenizer \u001b[38;5;241m=\u001b[39m PhobertTokenizerFast\u001b[38;5;241m.\u001b[39mfrom_pretrained(\u001b[38;5;124m\"\u001b[39m\u001b[38;5;124mBERT_BASE-20250820T150905Z-1-001/BERT_BASE\u001b[39m\u001b[38;5;124m\"\u001b[39m)\n\u001b[0;32m      6\u001b[0m \u001b[38;5;28;01mfrom\u001b[39;00m\u001b[38;5;250m \u001b[39m\u001b[38;5;21;01mutils\u001b[39;00m\u001b[38;5;21;01m.\u001b[39;00m\u001b[38;5;21;01mspan_extractor\u001b[39;00m\u001b[38;5;250m \u001b[39m\u001b[38;5;28;01mimport\u001b[39;00m SpanExtractor\n\u001b[1;32m----> 7\u001b[0m \u001b[38;5;28;01mfrom\u001b[39;00m\u001b[38;5;250m \u001b[39m\u001b[38;5;21;01mutils\u001b[39;00m\u001b[38;5;21;01m.\u001b[39;00m\u001b[38;5;21;01mprocess_data\u001b[39;00m\u001b[38;5;250m \u001b[39m\u001b[38;5;28;01mimport\u001b[39;00m text_normalize\n\u001b[0;32m      9\u001b[0m span_ex \u001b[38;5;241m=\u001b[39mSpanExtractor(tokenizer)\n\u001b[0;32m     10\u001b[0m model \u001b[38;5;241m=\u001b[39m ViSynoSenseEmbedding\u001b[38;5;241m.\u001b[39mfrom_pretrained(\u001b[38;5;124m\"\u001b[39m\u001b[38;5;124mBERT_BASE-20250820T150905Z-1-001/BERT_BASE\u001b[39m\u001b[38;5;124m\"\u001b[39m,tokenizer)\u001b[38;5;241m.\u001b[39mto(device)\n",
      "File \u001b[1;32me:\\Course\\UIT\\UIT-Final Thesis\\SynoViSense\\utils\\process_data.py:7\u001b[0m\n\u001b[0;32m      5\u001b[0m \u001b[38;5;28;01mimport\u001b[39;00m\u001b[38;5;250m \u001b[39m\u001b[38;5;21;01mpandas\u001b[39;00m\u001b[38;5;250m \u001b[39m\u001b[38;5;28;01mas\u001b[39;00m\u001b[38;5;250m \u001b[39m\u001b[38;5;21;01mpd\u001b[39;00m\n\u001b[0;32m      6\u001b[0m \u001b[38;5;28;01mfrom\u001b[39;00m\u001b[38;5;250m \u001b[39m\u001b[38;5;21;01msklearn\u001b[39;00m\u001b[38;5;21;01m.\u001b[39;00m\u001b[38;5;21;01mmodel_selection\u001b[39;00m\u001b[38;5;250m \u001b[39m\u001b[38;5;28;01mimport\u001b[39;00m train_test_split\n\u001b[1;32m----> 7\u001b[0m \u001b[38;5;28;01mfrom\u001b[39;00m\u001b[38;5;250m \u001b[39m\u001b[38;5;21;01munderthesea\u001b[39;00m\u001b[38;5;21;01m.\u001b[39;00m\u001b[38;5;21;01mpipeline\u001b[39;00m\u001b[38;5;21;01m.\u001b[39;00m\u001b[38;5;21;01mtext_normalize\u001b[39;00m\u001b[38;5;250m \u001b[39m\u001b[38;5;28;01mimport\u001b[39;00m token_normalize\n\u001b[0;32m      8\u001b[0m \u001b[38;5;28;01mfrom\u001b[39;00m\u001b[38;5;250m \u001b[39m\u001b[38;5;21;01mutils\u001b[39;00m\u001b[38;5;21;01m.\u001b[39;00m\u001b[38;5;21;01mcustom_uts_tokenize\u001b[39;00m\u001b[38;5;250m \u001b[39m\u001b[38;5;28;01mimport\u001b[39;00m tokenize\n\u001b[0;32m      9\u001b[0m \u001b[38;5;28;01mimport\u001b[39;00m\u001b[38;5;250m \u001b[39m\u001b[38;5;21;01mtorch\u001b[39;00m\n",
      "File \u001b[1;32me:\\Course\\UIT\\UIT-Final Thesis\\SynoViSense\\venv\\lib\\site-packages\\underthesea\\__init__.py:41\u001b[0m\n\u001b[0;32m     39\u001b[0m \u001b[38;5;28;01mfrom\u001b[39;00m\u001b[38;5;250m \u001b[39m\u001b[38;5;21;01m.\u001b[39;00m\u001b[38;5;21;01mpipeline\u001b[39;00m\u001b[38;5;21;01m.\u001b[39;00m\u001b[38;5;21;01mtext_normalize\u001b[39;00m\u001b[38;5;250m \u001b[39m\u001b[38;5;28;01mimport\u001b[39;00m text_normalize\n\u001b[0;32m     40\u001b[0m \u001b[38;5;28;01mfrom\u001b[39;00m\u001b[38;5;250m \u001b[39m\u001b[38;5;21;01m.\u001b[39;00m\u001b[38;5;21;01mpipeline\u001b[39;00m\u001b[38;5;21;01m.\u001b[39;00m\u001b[38;5;21;01mword_tokenize\u001b[39;00m\u001b[38;5;250m \u001b[39m\u001b[38;5;28;01mimport\u001b[39;00m word_tokenize\n\u001b[1;32m---> 41\u001b[0m \u001b[38;5;28;01mfrom\u001b[39;00m\u001b[38;5;250m \u001b[39m\u001b[38;5;21;01m.\u001b[39;00m\u001b[38;5;21;01mpipeline\u001b[39;00m\u001b[38;5;21;01m.\u001b[39;00m\u001b[38;5;21;01mpos_tag\u001b[39;00m\u001b[38;5;250m \u001b[39m\u001b[38;5;28;01mimport\u001b[39;00m pos_tag\n\u001b[0;32m     42\u001b[0m \u001b[38;5;28;01mfrom\u001b[39;00m\u001b[38;5;250m \u001b[39m\u001b[38;5;21;01m.\u001b[39;00m\u001b[38;5;21;01mpipeline\u001b[39;00m\u001b[38;5;21;01m.\u001b[39;00m\u001b[38;5;21;01mchunking\u001b[39;00m\u001b[38;5;250m \u001b[39m\u001b[38;5;28;01mimport\u001b[39;00m chunk\n\u001b[0;32m     43\u001b[0m \u001b[38;5;28;01mfrom\u001b[39;00m\u001b[38;5;250m \u001b[39m\u001b[38;5;21;01m.\u001b[39;00m\u001b[38;5;21;01mpipeline\u001b[39;00m\u001b[38;5;21;01m.\u001b[39;00m\u001b[38;5;21;01mner\u001b[39;00m\u001b[38;5;250m \u001b[39m\u001b[38;5;28;01mimport\u001b[39;00m ner\n",
      "File \u001b[1;32me:\\Course\\UIT\\UIT-Final Thesis\\SynoViSense\\venv\\lib\\site-packages\\underthesea\\pipeline\\pos_tag\\__init__.py:4\u001b[0m\n\u001b[0;32m      2\u001b[0m \u001b[38;5;28;01mfrom\u001b[39;00m\u001b[38;5;250m \u001b[39m\u001b[38;5;21;01munderthesea\u001b[39;00m\u001b[38;5;250m \u001b[39m\u001b[38;5;28;01mimport\u001b[39;00m word_tokenize\n\u001b[0;32m      3\u001b[0m \u001b[38;5;28;01mfrom\u001b[39;00m\u001b[38;5;250m \u001b[39m\u001b[38;5;21;01munderthesea\u001b[39;00m\u001b[38;5;21;01m.\u001b[39;00m\u001b[38;5;21;01mmodels\u001b[39;00m\u001b[38;5;21;01m.\u001b[39;00m\u001b[38;5;21;01mfast_crf_sequence_tagger\u001b[39;00m\u001b[38;5;250m \u001b[39m\u001b[38;5;28;01mimport\u001b[39;00m FastCRFSequenceTagger\n\u001b[1;32m----> 4\u001b[0m \u001b[38;5;28;01mfrom\u001b[39;00m\u001b[38;5;250m \u001b[39m\u001b[38;5;21;01m.\u001b[39;00m\u001b[38;5;21;01mmodel_crf\u001b[39;00m\u001b[38;5;250m \u001b[39m\u001b[38;5;28;01mimport\u001b[39;00m CRFPOSTagPredictor\n\u001b[0;32m      5\u001b[0m \u001b[38;5;28;01mfrom\u001b[39;00m\u001b[38;5;250m \u001b[39m\u001b[38;5;21;01mos\u001b[39;00m\u001b[38;5;21;01m.\u001b[39;00m\u001b[38;5;21;01mpath\u001b[39;00m\u001b[38;5;250m \u001b[39m\u001b[38;5;28;01mimport\u001b[39;00m dirname, join\n\u001b[0;32m      7\u001b[0m pos_model_v2 \u001b[38;5;241m=\u001b[39m \u001b[38;5;28;01mNone\u001b[39;00m\n",
      "File \u001b[1;32me:\\Course\\UIT\\UIT-Final Thesis\\SynoViSense\\venv\\lib\\site-packages\\underthesea\\pipeline\\pos_tag\\model_crf.py:4\u001b[0m\n\u001b[0;32m      2\u001b[0m \u001b[38;5;28;01mfrom\u001b[39;00m\u001b[38;5;250m \u001b[39m\u001b[38;5;21;01munderthesea\u001b[39;00m\u001b[38;5;21;01m.\u001b[39;00m\u001b[38;5;21;01mutil\u001b[39;00m\u001b[38;5;21;01m.\u001b[39;00m\u001b[38;5;21;01msingleton\u001b[39;00m\u001b[38;5;250m \u001b[39m\u001b[38;5;28;01mimport\u001b[39;00m Singleton\n\u001b[0;32m      3\u001b[0m \u001b[38;5;28;01mimport\u001b[39;00m\u001b[38;5;250m \u001b[39m\u001b[38;5;21;01mpycrfsuite\u001b[39;00m\n\u001b[1;32m----> 4\u001b[0m \u001b[38;5;28;01mfrom\u001b[39;00m\u001b[38;5;250m \u001b[39m\u001b[38;5;21;01m.\u001b[39;00m\u001b[38;5;21;01mtagged_feature\u001b[39;00m\u001b[38;5;250m \u001b[39m\u001b[38;5;28;01mimport\u001b[39;00m word2features\n\u001b[0;32m      7\u001b[0m \u001b[38;5;66;03m# [Deprecating] This file will be deprecated in the version 6.5.0\u001b[39;00m\n\u001b[0;32m      9\u001b[0m \u001b[38;5;129m@Singleton\u001b[39m\n\u001b[0;32m     10\u001b[0m \u001b[38;5;28;01mclass\u001b[39;00m\u001b[38;5;250m \u001b[39m\u001b[38;5;21;01mCRFPOSTagPredictor\u001b[39;00m:\n",
      "File \u001b[1;32me:\\Course\\UIT\\UIT-Final Thesis\\SynoViSense\\venv\\lib\\site-packages\\underthesea\\pipeline\\pos_tag\\tagged_feature.py:25\u001b[0m\n\u001b[0;32m     23\u001b[0m \u001b[38;5;28;01mimport\u001b[39;00m\u001b[38;5;250m \u001b[39m\u001b[38;5;21;01mre\u001b[39;00m\n\u001b[0;32m     24\u001b[0m \u001b[38;5;28;01mfrom\u001b[39;00m\u001b[38;5;250m \u001b[39m\u001b[38;5;21;01munderthesea\u001b[39;00m\u001b[38;5;21;01m.\u001b[39;00m\u001b[38;5;21;01mcorpus\u001b[39;00m\u001b[38;5;250m \u001b[39m\u001b[38;5;28;01mimport\u001b[39;00m DictionaryLoader\n\u001b[1;32m---> 25\u001b[0m words \u001b[38;5;241m=\u001b[39m \u001b[43mDictionaryLoader\u001b[49m\u001b[43m(\u001b[49m\u001b[38;5;124;43m\"\u001b[39;49m\u001b[38;5;124;43mViet74K.txt\u001b[39;49m\u001b[38;5;124;43m\"\u001b[39;49m\u001b[43m)\u001b[49m\u001b[38;5;241;43m.\u001b[39;49m\u001b[43mwords\u001b[49m\n\u001b[0;32m     26\u001b[0m lower_words \u001b[38;5;241m=\u001b[39m \u001b[38;5;28mset\u001b[39m([word\u001b[38;5;241m.\u001b[39mlower() \u001b[38;5;28;01mfor\u001b[39;00m word \u001b[38;5;129;01min\u001b[39;00m words])\n\u001b[0;32m     29\u001b[0m \u001b[38;5;28;01mdef\u001b[39;00m\u001b[38;5;250m \u001b[39m\u001b[38;5;21mtext_lower\u001b[39m(word):\n",
      "File \u001b[1;32me:\\Course\\UIT\\UIT-Final Thesis\\SynoViSense\\venv\\lib\\site-packages\\underthesea\\corpus\\readers\\dictionary_loader.py:20\u001b[0m, in \u001b[0;36mDictionaryLoader.words\u001b[1;34m(self)\u001b[0m\n\u001b[0;32m     17\u001b[0m \u001b[38;5;129m@property\u001b[39m\n\u001b[0;32m     18\u001b[0m \u001b[38;5;28;01mdef\u001b[39;00m\u001b[38;5;250m \u001b[39m\u001b[38;5;21mwords\u001b[39m(\u001b[38;5;28mself\u001b[39m):\n\u001b[0;32m     19\u001b[0m     \u001b[38;5;28;01mif\u001b[39;00m \u001b[38;5;129;01mnot\u001b[39;00m \u001b[38;5;28mself\u001b[39m\u001b[38;5;241m.\u001b[39mwords_data:\n\u001b[1;32m---> 20\u001b[0m         content \u001b[38;5;241m=\u001b[39m \u001b[43mread\u001b[49m\u001b[43m(\u001b[49m\u001b[38;5;28;43mself\u001b[39;49m\u001b[38;5;241;43m.\u001b[39;49m\u001b[43mdata_file\u001b[49m\u001b[43m)\u001b[49m\u001b[38;5;241m.\u001b[39mstrip()\n\u001b[0;32m     21\u001b[0m         words \u001b[38;5;241m=\u001b[39m content\u001b[38;5;241m.\u001b[39msplit(\u001b[38;5;124m\"\u001b[39m\u001b[38;5;130;01m\\n\u001b[39;00m\u001b[38;5;124m\"\u001b[39m)\n\u001b[0;32m     22\u001b[0m         \u001b[38;5;28mself\u001b[39m\u001b[38;5;241m.\u001b[39mwords_data \u001b[38;5;241m=\u001b[39m words\n",
      "File \u001b[1;32me:\\Course\\UIT\\UIT-Final Thesis\\SynoViSense\\venv\\lib\\site-packages\\underthesea\\util\\file_io.py:6\u001b[0m, in \u001b[0;36mread\u001b[1;34m(filename)\u001b[0m\n\u001b[0;32m      4\u001b[0m \u001b[38;5;28;01mdef\u001b[39;00m\u001b[38;5;250m \u001b[39m\u001b[38;5;21mread\u001b[39m(filename):\n\u001b[0;32m      5\u001b[0m     \u001b[38;5;28;01mwith\u001b[39;00m io\u001b[38;5;241m.\u001b[39mopen(filename, \u001b[38;5;124m\"\u001b[39m\u001b[38;5;124mr\u001b[39m\u001b[38;5;124m\"\u001b[39m, encoding\u001b[38;5;241m=\u001b[39m\u001b[38;5;124m\"\u001b[39m\u001b[38;5;124mutf-8\u001b[39m\u001b[38;5;124m\"\u001b[39m) \u001b[38;5;28;01mas\u001b[39;00m f:\n\u001b[1;32m----> 6\u001b[0m         text \u001b[38;5;241m=\u001b[39m \u001b[43mf\u001b[49m\u001b[38;5;241;43m.\u001b[39;49m\u001b[43mread\u001b[49m\u001b[43m(\u001b[49m\u001b[43m)\u001b[49m\n\u001b[0;32m      7\u001b[0m     \u001b[38;5;28;01mreturn\u001b[39;00m text\n",
      "\u001b[1;31mMemoryError\u001b[0m: "
     ]
    }
   ],
   "source": [
    "import torch\n",
    "from models.base_model import ViSynoSenseEmbedding\n",
    "from transformers import PhobertTokenizerFast\n",
    "device = \"cuda\" if torch.cuda.is_available() else \"cpu\"\n",
    "tokenizer = PhobertTokenizerFast.from_pretrained(\"BERT_BASE-20250820T150905Z-1-001/BERT_BASE\")\n",
    "from utils.span_extractor import SpanExtractor\n",
    "from utils.process_data import text_normalize\n",
    "\n",
    "span_ex =SpanExtractor(tokenizer)\n",
    "model = ViSynoSenseEmbedding.from_pretrained(\"BERT_BASE-20250820T150905Z-1-001/BERT_BASE\",tokenizer).to(device)"
   ]
  },
  {
   "cell_type": "code",
   "execution_count": null,
   "id": "c2c17093",
   "metadata": {},
   "outputs": [
    {
     "data": {
      "text/plain": [
       "'2.8.0+cpu'"
      ]
     },
     "execution_count": 4,
     "metadata": {},
     "output_type": "execute_result"
    }
   ],
   "source": [
    "# Load FAISS index\n",
    "import faiss\n",
    "import json\n",
    "index = faiss.read_index(\"/content/drive/MyDrive/UIT/ViSynoSense_models/index_mean.faiss\")\n",
    "\n",
    "# Load metadata\n",
    "with open(\"/content/drive/MyDrive/UIT/ViSynoSense_models/metadata_mean.json\", \"r\", encoding=\"utf-8\") as f:\n",
    "    metadata = json.load(f)\n"
   ]
  },
  {
   "cell_type": "code",
   "execution_count": 2,
   "id": "784a4603",
   "metadata": {},
   "outputs": [
    {
     "data": {
      "text/plain": [
       "True"
      ]
     },
     "execution_count": 2,
     "metadata": {},
     "output_type": "execute_result"
    }
   ],
   "source": [
    "import torch\n",
    "\n",
    "torch.cuda.is_available()"
   ]
  },
  {
   "cell_type": "code",
   "execution_count": null,
   "id": "0ab3ab9a",
   "metadata": {},
   "outputs": [],
   "source": [
    "def pipeline(query, target):\n",
    "  query_norm=text_normalize(query)\n",
    "  tokenized_query = tokenizer(query_norm,return_tensors=\"pt\").to(device)\n",
    "  span_idx = span_ex.get_span_indices(query_norm, target)\n",
    "  span =torch.Tensor(span_idx).unsqueeze(0).to(device)\n",
    "  model.eval()\n",
    "  query_vec = model(tokenized_query, span)\n",
    "  return query_vec"
   ]
  },
  {
   "cell_type": "code",
   "execution_count": null,
   "id": "d1f0fa8c",
   "metadata": {},
   "outputs": [],
   "source": [
    "import torch.nn.functional as F\n",
    "\n",
    "\n",
    "query_1 = \"Tôi đang khoan.\"\n",
    "target_1 = \"Khoan\"\n",
    "query_vec_1 = pipeline(query_1, target_1)\n",
    "\n",
    "query_2 = \"khoan này bị mất mũi khoan.\"\n",
    "target_2 = \"mũi khoan\"\n",
    "query_vec_2 = pipeline(query_2, target_2)\n",
    "\n",
    "query_3 = \"Khoan là việc rất tiện lợi.\"\n",
    "target_3 = \"Khoan\"\n",
    "query_vec_3 = pipeline(query_3, target_3)\n",
    "\n",
    "\n",
    "def cosine_similarity(vec1, vec2):\n",
    "    return F.cosine_similarity(vec1, vec2, dim=1).item()\n",
    "\n",
    "\n",
    "sim_1 = cosine_similarity(query_vec_1, query_vec_3)\n",
    "sim_2 = cosine_similarity(query_vec_2, query_vec_3)\n",
    "\n",
    "print(f\"Similarity between 1: {target_1}  and  3: {target_3}: {sim_1:.4f}\")\n",
    "print(f\"Similarity between 2: {target_2} and 3:{target_3}: {sim_2:.4f}\")"
   ]
  },
  {
   "cell_type": "code",
   "execution_count": null,
   "id": "ded70597",
   "metadata": {},
   "outputs": [],
   "source": [
    "import numpy as np\n",
    "import matplotlib.pyplot as plt\n",
    "import umap.umap_ as umap       # pip install umap-learn\n",
    "from adjustText import adjust_text  # pip install adjustText\n",
    "from matplotlib.lines import Line2D\n",
    "\n",
    "# --- 1. Chuẩn bị 2 query và targets ---\n",
    "queries = [\n",
    "    (\"Đây là người viết thơ rất nổi tiếng.\", \"người viết thơ\"),\n",
    "    (\"Anh ấy là người sáng tác thơ.\",   \"người sáng tác thơ\"),\n",
    "]\n",
    "colors_query = [\"red\", \"blue\"]\n",
    "colors_nn    = [\"orange\", \"cyan\"]\n",
    "\n",
    "# --- 2. Lấy vector query và top‑K neighbours ---\n",
    "all_vecs   = []\n",
    "all_labels = []\n",
    "all_colors = []\n",
    "\n",
    "seen_idxs = set()\n",
    "for qi, (q_text, q_target) in enumerate(queries):\n",
    "    # lấy vec query\n",
    "    q_vec = pipeline(q_text, q_target).detach().cpu().numpy().reshape(-1)\n",
    "    D, I   = index.search(q_vec[np.newaxis, :], k=10)\n",
    "\n",
    "    # thêm query vào lists\n",
    "    all_vecs.append(q_vec)\n",
    "    all_labels.append(f\"Q{qi+1}: {q_target}\")\n",
    "    all_colors.append(colors_query[qi])\n",
    "\n",
    "    # top‑K nhưng bỏ trùng với seen_idxs\n",
    "    for idx in I[0]:\n",
    "        if idx in seen_idxs:\n",
    "            continue\n",
    "        seen_idxs.add(idx)\n",
    "        nn_vec = np.array(index.reconstruct(int(idx))).reshape(-1)\n",
    "        all_vecs.append(nn_vec)\n",
    "        word = metadata[idx]['word']\n",
    "        all_labels.append(word)\n",
    "        all_colors.append(colors_nn[qi])\n",
    "\n",
    "# --- 3. Giảm chiều bằng UMAP ---\n",
    "all_vecs = np.vstack(all_vecs)\n",
    "reducer = umap.UMAP(n_components=2, metric='cosine', random_state=42)\n",
    "emb_2d   = reducer.fit_transform(all_vecs)\n",
    "\n",
    "# --- 4. Vẽ scatter + dàn nhãn ---\n",
    "plt.figure(figsize=(12, 8))\n",
    "text_objs = []\n",
    "for (x, y), label, c in zip(emb_2d, all_labels, all_colors):\n",
    "    plt.scatter(x, y, color=c, s=80)\n",
    "    text_objs.append(plt.text(x, y, label, fontsize=9))\n",
    "\n",
    "adjust_text(text_objs,\n",
    "            arrowprops=dict(arrowstyle=\"->\", color='gray', lw=0.5),\n",
    "            expand_text=(1.2, 1.2),\n",
    "            force_text=0.5)\n",
    "\n",
    "# --- 5. Tạo legend thủ công ---\n",
    "legend_elements = [\n",
    "    Line2D([0], [0], marker='o', color='w', label=f\"Query {i+1}: {t}\",\n",
    "           markerfacecolor=colors_query[i], markersize=10)\n",
    "    for i, (_, t) in enumerate(queries)\n",
    "] + [\n",
    "    Line2D([0], [0], marker='o', color='w', label=f\"Top‑K of Query {i+1}\",\n",
    "           markerfacecolor=colors_nn[i], markersize=8)\n",
    "    for i in range(len(queries))\n",
    "]\n",
    "\n",
    "plt.legend(handles=legend_elements, loc='upper right', framealpha=1)\n",
    "plt.title(\"UMAP Visualization of Two Queries and Their Neighbors\")\n",
    "plt.axis(\"equal\")\n",
    "plt.axis(\"off\")\n",
    "plt.tight_layout()\n",
    "plt.show()\n"
   ]
  },
  {
   "cell_type": "code",
   "execution_count": null,
   "id": "99fdd4c9",
   "metadata": {},
   "outputs": [],
   "source": []
  }
 ],
 "metadata": {
  "kernelspec": {
   "display_name": "venv",
   "language": "python",
   "name": "python3"
  },
  "language_info": {
   "codemirror_mode": {
    "name": "ipython",
    "version": 3
   },
   "file_extension": ".py",
   "mimetype": "text/x-python",
   "name": "python",
   "nbconvert_exporter": "python",
   "pygments_lexer": "ipython3",
   "version": "3.10.10"
  }
 },
 "nbformat": 4,
 "nbformat_minor": 5
}
