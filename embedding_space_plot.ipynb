{
 "cells": [
  {
   "cell_type": "code",
   "execution_count": 1,
   "id": "23093775",
   "metadata": {},
   "outputs": [
    {
     "name": "stderr",
     "output_type": "stream",
     "text": [
      "e:\\Course\\UIT\\UIT-Final Thesis\\SynoViSense\\venv\\lib\\site-packages\\tqdm\\auto.py:21: TqdmWarning: IProgress not found. Please update jupyter and ipywidgets. See https://ipywidgets.readthedocs.io/en/stable/user_install.html\n",
      "  from .autonotebook import tqdm as notebook_tqdm\n",
      "e:\\Course\\UIT\\UIT-Final Thesis\\SynoViSense\\venv\\lib\\site-packages\\huggingface_hub\\file_download.py:945: FutureWarning: `resume_download` is deprecated and will be removed in version 1.0.0. Downloads always resume when possible. If you want to force a new download, use `force_download=True`.\n",
      "  warnings.warn(\n"
     ]
    },
    {
     "ename": "RuntimeError",
     "evalue": "[enforce fail at alloc_cpu.cpp:121] data. DefaultCPUAllocator: not enough memory: you tried to allocate 9437184 bytes.",
     "output_type": "error",
     "traceback": [
      "\u001b[1;31m---------------------------------------------------------------------------\u001b[0m",
      "\u001b[1;31mRuntimeError\u001b[0m                              Traceback (most recent call last)",
      "Cell \u001b[1;32mIn[1], line 10\u001b[0m\n\u001b[0;32m      7\u001b[0m \u001b[38;5;28;01mfrom\u001b[39;00m\u001b[38;5;250m \u001b[39m\u001b[38;5;21;01mutils\u001b[39;00m\u001b[38;5;21;01m.\u001b[39;00m\u001b[38;5;21;01mprocess_data\u001b[39;00m\u001b[38;5;250m \u001b[39m\u001b[38;5;28;01mimport\u001b[39;00m text_normalize\n\u001b[0;32m      9\u001b[0m span_ex \u001b[38;5;241m=\u001b[39mSpanExtractor(tokenizer)\n\u001b[1;32m---> 10\u001b[0m model \u001b[38;5;241m=\u001b[39m \u001b[43mViSynoSenseEmbedding\u001b[49m\u001b[38;5;241;43m.\u001b[39;49m\u001b[43mfrom_pretrained\u001b[49m\u001b[43m(\u001b[49m\u001b[38;5;124;43m\"\u001b[39;49m\u001b[38;5;124;43mBERT_BASE-20250820T150905Z-1-001/BERT_BASE\u001b[39;49m\u001b[38;5;124;43m\"\u001b[39;49m\u001b[43m,\u001b[49m\u001b[43mtokenizer\u001b[49m\u001b[43m)\u001b[49m\u001b[38;5;241m.\u001b[39mto(device)\n",
      "File \u001b[1;32me:\\Course\\UIT\\UIT-Final Thesis\\SynoViSense\\models\\base_model.py:221\u001b[0m, in \u001b[0;36mViSynoSenseEmbedding.from_pretrained\u001b[1;34m(cls, save_directory, tokenizer)\u001b[0m\n\u001b[0;32m    206\u001b[0m         \u001b[38;5;28;01mraise\u001b[39;00m \u001b[38;5;167;01mValueError\u001b[39;00m(\u001b[38;5;124m\"\u001b[39m\u001b[38;5;124mKhông tìm thấy tokenizer trong thư mục\u001b[39m\u001b[38;5;124m\"\u001b[39m)\n\u001b[0;32m    208\u001b[0m model \u001b[38;5;241m=\u001b[39m \u001b[38;5;28mcls\u001b[39m(\n\u001b[0;32m    209\u001b[0m     tokenizer\u001b[38;5;241m=\u001b[39mtokenizer,\n\u001b[0;32m    210\u001b[0m     model_name\u001b[38;5;241m=\u001b[39mconfig[\u001b[38;5;124m\"\u001b[39m\u001b[38;5;124mbase_model\u001b[39m\u001b[38;5;124m\"\u001b[39m],\n\u001b[1;32m   (...)\u001b[0m\n\u001b[0;32m    218\u001b[0m     context_window_size\u001b[38;5;241m=\u001b[39mconfig[\u001b[38;5;124m\"\u001b[39m\u001b[38;5;124mcontext_window_size\u001b[39m\u001b[38;5;124m\"\u001b[39m],\n\u001b[0;32m    219\u001b[0m )\n\u001b[1;32m--> 221\u001b[0m state_dict \u001b[38;5;241m=\u001b[39m \u001b[43mtorch\u001b[49m\u001b[38;5;241;43m.\u001b[39;49m\u001b[43mload\u001b[49m\u001b[43m(\u001b[49m\n\u001b[0;32m    222\u001b[0m \u001b[43m    \u001b[49m\u001b[43mos\u001b[49m\u001b[38;5;241;43m.\u001b[39;49m\u001b[43mpath\u001b[49m\u001b[38;5;241;43m.\u001b[39;49m\u001b[43mjoin\u001b[49m\u001b[43m(\u001b[49m\u001b[43msave_directory\u001b[49m\u001b[43m,\u001b[49m\u001b[43m \u001b[49m\u001b[38;5;124;43m\"\u001b[39;49m\u001b[38;5;124;43mpytorch_model.bin\u001b[39;49m\u001b[38;5;124;43m\"\u001b[39;49m\u001b[43m)\u001b[49m\u001b[43m,\u001b[49m\n\u001b[0;32m    223\u001b[0m \u001b[43m    \u001b[49m\u001b[43mmap_location\u001b[49m\u001b[38;5;241;43m=\u001b[39;49m\u001b[43mtorch\u001b[49m\u001b[38;5;241;43m.\u001b[39;49m\u001b[43mdevice\u001b[49m\u001b[43m(\u001b[49m\u001b[38;5;124;43m'\u001b[39;49m\u001b[38;5;124;43mcpu\u001b[39;49m\u001b[38;5;124;43m'\u001b[39;49m\u001b[43m)\u001b[49m\n\u001b[0;32m    224\u001b[0m \u001b[43m\u001b[49m\u001b[43m)\u001b[49m\n\u001b[0;32m    226\u001b[0m model\u001b[38;5;241m.\u001b[39mload_state_dict(state_dict)\n\u001b[0;32m    227\u001b[0m \u001b[38;5;28;01mreturn\u001b[39;00m model\n",
      "File \u001b[1;32me:\\Course\\UIT\\UIT-Final Thesis\\SynoViSense\\venv\\lib\\site-packages\\torch\\serialization.py:1521\u001b[0m, in \u001b[0;36mload\u001b[1;34m(f, map_location, pickle_module, weights_only, mmap, **pickle_load_args)\u001b[0m\n\u001b[0;32m   1519\u001b[0m if weights_only:\n\u001b[0;32m   1520\u001b[0m     try:\n\u001b[1;32m-> 1521\u001b[0m         return _load(\n\u001b[0;32m   1522\u001b[0m             opened_zipfile,\n\u001b[0;32m   1523\u001b[0m             map_location,\n\u001b[0;32m   1524\u001b[0m             _weights_only_unpickler,\n\u001b[0;32m   1525\u001b[0m             overall_storage=overall_storage,\n\u001b[0;32m   1526\u001b[0m             **pickle_load_args,\n\u001b[0;32m   1527\u001b[0m         )\n\u001b[0;32m   1528\u001b[0m     except pickle.UnpicklingError as e:\n\u001b[0;32m   1529\u001b[0m         raise pickle.UnpicklingError(_get_wo_message(str(e))) from None\n",
      "File \u001b[1;32me:\\Course\\UIT\\UIT-Final Thesis\\SynoViSense\\venv\\lib\\site-packages\\torch\\serialization.py:2119\u001b[0m, in \u001b[0;36m_load\u001b[1;34m(zip_file, map_location, pickle_module, pickle_file, overall_storage, **pickle_load_args)\u001b[0m\n\u001b[0;32m   2117\u001b[0m \u001b[38;5;28;01mglobal\u001b[39;00m _serialization_tls\n\u001b[0;32m   2118\u001b[0m _serialization_tls\u001b[38;5;241m.\u001b[39mmap_location \u001b[38;5;241m=\u001b[39m map_location\n\u001b[1;32m-> 2119\u001b[0m result \u001b[38;5;241m=\u001b[39m \u001b[43munpickler\u001b[49m\u001b[38;5;241;43m.\u001b[39;49m\u001b[43mload\u001b[49m\u001b[43m(\u001b[49m\u001b[43m)\u001b[49m\n\u001b[0;32m   2120\u001b[0m _serialization_tls\u001b[38;5;241m.\u001b[39mmap_location \u001b[38;5;241m=\u001b[39m \u001b[38;5;28;01mNone\u001b[39;00m\n\u001b[0;32m   2122\u001b[0m torch\u001b[38;5;241m.\u001b[39m_utils\u001b[38;5;241m.\u001b[39m_validate_loaded_sparse_tensors()\n",
      "File \u001b[1;32me:\\Course\\UIT\\UIT-Final Thesis\\SynoViSense\\venv\\lib\\site-packages\\torch\\_weights_only_unpickler.py:532\u001b[0m, in \u001b[0;36mUnpickler.load\u001b[1;34m(self)\u001b[0m\n\u001b[0;32m    524\u001b[0m     \u001b[38;5;28;01mif\u001b[39;00m (\n\u001b[0;32m    525\u001b[0m         \u001b[38;5;28mtype\u001b[39m(pid) \u001b[38;5;129;01mis\u001b[39;00m \u001b[38;5;28mtuple\u001b[39m\n\u001b[0;32m    526\u001b[0m         \u001b[38;5;129;01mand\u001b[39;00m \u001b[38;5;28mlen\u001b[39m(pid) \u001b[38;5;241m>\u001b[39m \u001b[38;5;241m0\u001b[39m\n\u001b[0;32m    527\u001b[0m         \u001b[38;5;129;01mand\u001b[39;00m torch\u001b[38;5;241m.\u001b[39mserialization\u001b[38;5;241m.\u001b[39m_maybe_decode_ascii(pid[\u001b[38;5;241m0\u001b[39m]) \u001b[38;5;241m!=\u001b[39m \u001b[38;5;124m\"\u001b[39m\u001b[38;5;124mstorage\u001b[39m\u001b[38;5;124m\"\u001b[39m\n\u001b[0;32m    528\u001b[0m     ):\n\u001b[0;32m    529\u001b[0m         \u001b[38;5;28;01mraise\u001b[39;00m UnpicklingError(\n\u001b[0;32m    530\u001b[0m             \u001b[38;5;124mf\u001b[39m\u001b[38;5;124m\"\u001b[39m\u001b[38;5;124mOnly persistent_load of storage is allowed, but got \u001b[39m\u001b[38;5;132;01m{\u001b[39;00mpid[\u001b[38;5;241m0\u001b[39m]\u001b[38;5;132;01m}\u001b[39;00m\u001b[38;5;124m\"\u001b[39m\n\u001b[0;32m    531\u001b[0m         )\n\u001b[1;32m--> 532\u001b[0m     \u001b[38;5;28mself\u001b[39m\u001b[38;5;241m.\u001b[39mappend(\u001b[38;5;28;43mself\u001b[39;49m\u001b[38;5;241;43m.\u001b[39;49m\u001b[43mpersistent_load\u001b[49m\u001b[43m(\u001b[49m\u001b[43mpid\u001b[49m\u001b[43m)\u001b[49m)\n\u001b[0;32m    533\u001b[0m \u001b[38;5;28;01melif\u001b[39;00m key[\u001b[38;5;241m0\u001b[39m] \u001b[38;5;129;01min\u001b[39;00m [BINGET[\u001b[38;5;241m0\u001b[39m], LONG_BINGET[\u001b[38;5;241m0\u001b[39m]]:\n\u001b[0;32m    534\u001b[0m     idx \u001b[38;5;241m=\u001b[39m (read(\u001b[38;5;241m1\u001b[39m) \u001b[38;5;28;01mif\u001b[39;00m key[\u001b[38;5;241m0\u001b[39m] \u001b[38;5;241m==\u001b[39m BINGET[\u001b[38;5;241m0\u001b[39m] \u001b[38;5;28;01melse\u001b[39;00m unpack(\u001b[38;5;124m\"\u001b[39m\u001b[38;5;124m<I\u001b[39m\u001b[38;5;124m\"\u001b[39m, read(\u001b[38;5;241m4\u001b[39m)))[\u001b[38;5;241m0\u001b[39m]\n",
      "File \u001b[1;32me:\\Course\\UIT\\UIT-Final Thesis\\SynoViSense\\venv\\lib\\site-packages\\torch\\serialization.py:2083\u001b[0m, in \u001b[0;36m_load.<locals>.persistent_load\u001b[1;34m(saved_id)\u001b[0m\n\u001b[0;32m   2081\u001b[0m \u001b[38;5;28;01melse\u001b[39;00m:\n\u001b[0;32m   2082\u001b[0m     nbytes \u001b[38;5;241m=\u001b[39m numel \u001b[38;5;241m*\u001b[39m torch\u001b[38;5;241m.\u001b[39m_utils\u001b[38;5;241m.\u001b[39m_element_size(dtype)\n\u001b[1;32m-> 2083\u001b[0m     typed_storage \u001b[38;5;241m=\u001b[39m \u001b[43mload_tensor\u001b[49m\u001b[43m(\u001b[49m\n\u001b[0;32m   2084\u001b[0m \u001b[43m        \u001b[49m\u001b[43mdtype\u001b[49m\u001b[43m,\u001b[49m\u001b[43m \u001b[49m\u001b[43mnbytes\u001b[49m\u001b[43m,\u001b[49m\u001b[43m \u001b[49m\u001b[43mkey\u001b[49m\u001b[43m,\u001b[49m\u001b[43m \u001b[49m\u001b[43m_maybe_decode_ascii\u001b[49m\u001b[43m(\u001b[49m\u001b[43mlocation\u001b[49m\u001b[43m)\u001b[49m\n\u001b[0;32m   2085\u001b[0m \u001b[43m    \u001b[49m\u001b[43m)\u001b[49m\n\u001b[0;32m   2087\u001b[0m \u001b[38;5;28;01mreturn\u001b[39;00m typed_storage\n",
      "File \u001b[1;32me:\\Course\\UIT\\UIT-Final Thesis\\SynoViSense\\venv\\lib\\site-packages\\torch\\serialization.py:2036\u001b[0m, in \u001b[0;36m_load.<locals>.load_tensor\u001b[1;34m(dtype, numel, key, location)\u001b[0m\n\u001b[0;32m   2029\u001b[0m         \u001b[38;5;28;01mif\u001b[39;00m storage_offset \u001b[38;5;241m!=\u001b[39m zip_file\u001b[38;5;241m.\u001b[39mget_record_offset(name):\n\u001b[0;32m   2030\u001b[0m             \u001b[38;5;28;01mraise\u001b[39;00m \u001b[38;5;167;01mRuntimeError\u001b[39;00m(\n\u001b[0;32m   2031\u001b[0m                 \u001b[38;5;124m\"\u001b[39m\u001b[38;5;124mThis is a debug assert that was run as the `TORCH_SERIALIZATION_DEBUG` environment \u001b[39m\u001b[38;5;124m\"\u001b[39m\n\u001b[0;32m   2032\u001b[0m                 \u001b[38;5;124mf\u001b[39m\u001b[38;5;124m\"\u001b[39m\u001b[38;5;124mvariable was set: Incorrect offset for \u001b[39m\u001b[38;5;132;01m{\u001b[39;00mname\u001b[38;5;132;01m}\u001b[39;00m\u001b[38;5;124m, got \u001b[39m\u001b[38;5;132;01m{\u001b[39;00mstorage_offset\u001b[38;5;132;01m}\u001b[39;00m\u001b[38;5;124m expected \u001b[39m\u001b[38;5;124m\"\u001b[39m\n\u001b[0;32m   2033\u001b[0m                 \u001b[38;5;124mf\u001b[39m\u001b[38;5;124m\"\u001b[39m\u001b[38;5;132;01m{\u001b[39;00mzip_file\u001b[38;5;241m.\u001b[39mget_record_offset(name)\u001b[38;5;132;01m}\u001b[39;00m\u001b[38;5;124m\"\u001b[39m\n\u001b[0;32m   2034\u001b[0m             )\n\u001b[0;32m   2035\u001b[0m     storage \u001b[38;5;241m=\u001b[39m (\n\u001b[1;32m-> 2036\u001b[0m         \u001b[43mzip_file\u001b[49m\u001b[38;5;241;43m.\u001b[39;49m\u001b[43mget_storage_from_record\u001b[49m\u001b[43m(\u001b[49m\u001b[43mname\u001b[49m\u001b[43m,\u001b[49m\u001b[43m \u001b[49m\u001b[43mnumel\u001b[49m\u001b[43m,\u001b[49m\u001b[43m \u001b[49m\u001b[43mtorch\u001b[49m\u001b[38;5;241;43m.\u001b[39;49m\u001b[43mUntypedStorage\u001b[49m\u001b[43m)\u001b[49m\n\u001b[0;32m   2037\u001b[0m         \u001b[38;5;241m.\u001b[39m_typed_storage()\n\u001b[0;32m   2038\u001b[0m         \u001b[38;5;241m.\u001b[39m_untyped_storage\n\u001b[0;32m   2039\u001b[0m     )\n\u001b[0;32m   2040\u001b[0m \u001b[38;5;66;03m# swap here if byteswapping is needed\u001b[39;00m\n\u001b[0;32m   2041\u001b[0m \u001b[38;5;28;01mif\u001b[39;00m byteorderdata \u001b[38;5;129;01mis\u001b[39;00m \u001b[38;5;129;01mnot\u001b[39;00m \u001b[38;5;28;01mNone\u001b[39;00m:\n",
      "\u001b[1;31mRuntimeError\u001b[0m: [enforce fail at alloc_cpu.cpp:121] data. DefaultCPUAllocator: not enough memory: you tried to allocate 9437184 bytes."
     ]
    }
   ],
   "source": [
    "import torch\n",
    "from models.base_model import ViSynoSenseEmbedding\n",
    "from transformers import PhobertTokenizerFast\n",
    "device = \"cuda\" if torch.cuda.is_available() else \"cpu\"\n",
    "tokenizer = PhobertTokenizerFast.from_pretrained(\"BERT_BASE-20250820T150905Z-1-001/BERT_BASE\")\n",
    "from utils.span_extractor import SpanExtractor\n",
    "from utils.process_data import text_normalize\n",
    "\n",
    "span_ex =SpanExtractor(tokenizer)\n",
    "model = ViSynoSenseEmbedding.from_pretrained(\"BERT_BASE-20250820T150905Z-1-001/BERT_BASE\",tokenizer).to(device)"
   ]
  },
  {
   "cell_type": "code",
   "execution_count": null,
   "id": "c2c17093",
   "metadata": {},
   "outputs": [
    {
     "data": {
      "text/plain": [
       "'2.8.0+cpu'"
      ]
     },
     "execution_count": 4,
     "metadata": {},
     "output_type": "execute_result"
    }
   ],
   "source": [
    "# Load FAISS index\n",
    "import faiss\n",
    "import json\n",
    "index = faiss.read_index(\"/content/drive/MyDrive/UIT/ViSynoSense_models/index_mean.faiss\")\n",
    "\n",
    "# Load metadata\n",
    "with open(\"/content/drive/MyDrive/UIT/ViSynoSense_models/metadata_mean.json\", \"r\", encoding=\"utf-8\") as f:\n",
    "    metadata = json.load(f)\n"
   ]
  },
  {
   "cell_type": "code",
   "execution_count": 2,
   "id": "784a4603",
   "metadata": {},
   "outputs": [
    {
     "data": {
      "text/plain": [
       "True"
      ]
     },
     "execution_count": 2,
     "metadata": {},
     "output_type": "execute_result"
    }
   ],
   "source": [
    "import torch\n",
    "\n",
    "torch.cuda.is_available()"
   ]
  },
  {
   "cell_type": "code",
   "execution_count": null,
   "id": "0ab3ab9a",
   "metadata": {},
   "outputs": [],
   "source": [
    "def pipeline(query, target):\n",
    "  query_norm=text_normalize(query)\n",
    "  tokenized_query = tokenizer(query_norm,return_tensors=\"pt\").to(device)\n",
    "  span_idx = span_ex.get_span_indices(query_norm, target)\n",
    "  span =torch.Tensor(span_idx).unsqueeze(0).to(device)\n",
    "  model.eval()\n",
    "  query_vec = model(tokenized_query, span)\n",
    "  return query_vec"
   ]
  },
  {
   "cell_type": "code",
   "execution_count": null,
   "id": "d1f0fa8c",
   "metadata": {},
   "outputs": [],
   "source": [
    "import torch.nn.functional as F\n",
    "\n",
    "\n",
    "query_1 = \"Tôi đang khoan.\"\n",
    "target_1 = \"Khoan\"\n",
    "query_vec_1 = pipeline(query_1, target_1)\n",
    "\n",
    "query_2 = \"khoan này bị mất mũi khoan.\"\n",
    "target_2 = \"mũi khoan\"\n",
    "query_vec_2 = pipeline(query_2, target_2)\n",
    "\n",
    "query_3 = \"Khoan là việc rất tiện lợi.\"\n",
    "target_3 = \"Khoan\"\n",
    "query_vec_3 = pipeline(query_3, target_3)\n",
    "\n",
    "\n",
    "def cosine_similarity(vec1, vec2):\n",
    "    return F.cosine_similarity(vec1, vec2, dim=1).item()\n",
    "\n",
    "\n",
    "sim_1 = cosine_similarity(query_vec_1, query_vec_3)\n",
    "sim_2 = cosine_similarity(query_vec_2, query_vec_3)\n",
    "\n",
    "print(f\"Similarity between 1: {target_1}  and  3: {target_3}: {sim_1:.4f}\")\n",
    "print(f\"Similarity between 2: {target_2} and 3:{target_3}: {sim_2:.4f}\")"
   ]
  },
  {
   "cell_type": "code",
   "execution_count": null,
   "id": "ded70597",
   "metadata": {},
   "outputs": [],
   "source": [
    "import numpy as np\n",
    "import matplotlib.pyplot as plt\n",
    "import umap.umap_ as umap       # pip install umap-learn\n",
    "from adjustText import adjust_text  # pip install adjustText\n",
    "from matplotlib.lines import Line2D\n",
    "\n",
    "# --- 1. Chuẩn bị 2 query và targets ---\n",
    "queries = [\n",
    "    (\"Đây là người viết thơ rất nổi tiếng.\", \"người viết thơ\"),\n",
    "    (\"Anh ấy là người sáng tác thơ.\",   \"người sáng tác thơ\"),\n",
    "]\n",
    "colors_query = [\"red\", \"blue\"]\n",
    "colors_nn    = [\"orange\", \"cyan\"]\n",
    "\n",
    "# --- 2. Lấy vector query và top‑K neighbours ---\n",
    "all_vecs   = []\n",
    "all_labels = []\n",
    "all_colors = []\n",
    "\n",
    "seen_idxs = set()\n",
    "for qi, (q_text, q_target) in enumerate(queries):\n",
    "    # lấy vec query\n",
    "    q_vec = pipeline(q_text, q_target).detach().cpu().numpy().reshape(-1)\n",
    "    D, I   = index.search(q_vec[np.newaxis, :], k=10)\n",
    "\n",
    "    # thêm query vào lists\n",
    "    all_vecs.append(q_vec)\n",
    "    all_labels.append(f\"Q{qi+1}: {q_target}\")\n",
    "    all_colors.append(colors_query[qi])\n",
    "\n",
    "    # top‑K nhưng bỏ trùng với seen_idxs\n",
    "    for idx in I[0]:\n",
    "        if idx in seen_idxs:\n",
    "            continue\n",
    "        seen_idxs.add(idx)\n",
    "        nn_vec = np.array(index.reconstruct(int(idx))).reshape(-1)\n",
    "        all_vecs.append(nn_vec)\n",
    "        word = metadata[idx]['word']\n",
    "        all_labels.append(word)\n",
    "        all_colors.append(colors_nn[qi])\n",
    "\n",
    "# --- 3. Giảm chiều bằng UMAP ---\n",
    "all_vecs = np.vstack(all_vecs)\n",
    "reducer = umap.UMAP(n_components=2, metric='cosine', random_state=42)\n",
    "emb_2d   = reducer.fit_transform(all_vecs)\n",
    "\n",
    "# --- 4. Vẽ scatter + dàn nhãn ---\n",
    "plt.figure(figsize=(12, 8))\n",
    "text_objs = []\n",
    "for (x, y), label, c in zip(emb_2d, all_labels, all_colors):\n",
    "    plt.scatter(x, y, color=c, s=80)\n",
    "    text_objs.append(plt.text(x, y, label, fontsize=9))\n",
    "\n",
    "adjust_text(text_objs,\n",
    "            arrowprops=dict(arrowstyle=\"->\", color='gray', lw=0.5),\n",
    "            expand_text=(1.2, 1.2),\n",
    "            force_text=0.5)\n",
    "\n",
    "# --- 5. Tạo legend thủ công ---\n",
    "legend_elements = [\n",
    "    Line2D([0], [0], marker='o', color='w', label=f\"Query {i+1}: {t}\",\n",
    "           markerfacecolor=colors_query[i], markersize=10)\n",
    "    for i, (_, t) in enumerate(queries)\n",
    "] + [\n",
    "    Line2D([0], [0], marker='o', color='w', label=f\"Top‑K of Query {i+1}\",\n",
    "           markerfacecolor=colors_nn[i], markersize=8)\n",
    "    for i in range(len(queries))\n",
    "]\n",
    "\n",
    "plt.legend(handles=legend_elements, loc='upper right', framealpha=1)\n",
    "plt.title(\"UMAP Visualization of Two Queries and Their Neighbors\")\n",
    "plt.axis(\"equal\")\n",
    "plt.axis(\"off\")\n",
    "plt.tight_layout()\n",
    "plt.show()\n"
   ]
  },
  {
   "cell_type": "code",
   "execution_count": null,
   "id": "99fdd4c9",
   "metadata": {},
   "outputs": [],
   "source": []
  }
 ],
 "metadata": {
  "kernelspec": {
   "display_name": "venv",
   "language": "python",
   "name": "python3"
  },
  "language_info": {
   "codemirror_mode": {
    "name": "ipython",
    "version": 3
   },
   "file_extension": ".py",
   "mimetype": "text/x-python",
   "name": "python",
   "nbconvert_exporter": "python",
   "pygments_lexer": "ipython3",
   "version": "3.10.10"
  }
 },
 "nbformat": 4,
 "nbformat_minor": 5
}
